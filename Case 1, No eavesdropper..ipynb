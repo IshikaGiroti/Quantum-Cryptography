{
 "cells": [
  {
   "cell_type": "markdown",
   "id": "9d18bf9d",
   "metadata": {},
   "source": [
    "CASE 1: NO EAVESDROPPER"
   ]
  },
  {
   "cell_type": "code",
   "execution_count": 1,
   "id": "176f0e93",
   "metadata": {},
   "outputs": [
    {
     "name": "stdout",
     "output_type": "stream",
     "text": [
      "Requirement already satisfied: qiskit[visualization] in c:\\users\\dell\\anaconda3\\lib\\site-packages (0.38.0)\n",
      "Requirement already satisfied: qiskit-ibmq-provider==0.19.2 in c:\\users\\dell\\anaconda3\\lib\\site-packages (from qiskit[visualization]) (0.19.2)\n",
      "Requirement already satisfied: qiskit-aer==0.11.0 in c:\\users\\dell\\anaconda3\\lib\\site-packages (from qiskit[visualization]) (0.11.0)\n",
      "Requirement already satisfied: qiskit-terra==0.21.2 in c:\\users\\dell\\anaconda3\\lib\\site-packages (from qiskit[visualization]) (0.21.2)\n",
      "Requirement already satisfied: pylatexenc>=1.4 in c:\\users\\dell\\anaconda3\\lib\\site-packages (from qiskit[visualization]) (2.10)\n",
      "Requirement already satisfied: pydot in c:\\users\\dell\\anaconda3\\lib\\site-packages (from qiskit[visualization]) (1.4.2)\n",
      "Requirement already satisfied: pygments>=2.4 in c:\\users\\dell\\anaconda3\\lib\\site-packages (from qiskit[visualization]) (2.10.0)\n",
      "Requirement already satisfied: matplotlib>=2.1 in c:\\users\\dell\\anaconda3\\lib\\site-packages (from qiskit[visualization]) (3.4.3)\n",
      "Requirement already satisfied: seaborn>=0.9.0 in c:\\users\\dell\\anaconda3\\lib\\site-packages (from qiskit[visualization]) (0.12.0)\n",
      "Requirement already satisfied: pillow>=4.2.1 in c:\\users\\dell\\anaconda3\\lib\\site-packages (from qiskit[visualization]) (8.4.0)\n",
      "Requirement already satisfied: ipywidgets>=7.3.0 in c:\\users\\dell\\anaconda3\\lib\\site-packages (from qiskit[visualization]) (7.6.5)\n",
      "Requirement already satisfied: scipy>=1.0 in c:\\users\\dell\\anaconda3\\lib\\site-packages (from qiskit-aer==0.11.0->qiskit[visualization]) (1.7.1)\n",
      "Requirement already satisfied: numpy>=1.16.3 in c:\\users\\dell\\anaconda3\\lib\\site-packages (from qiskit-aer==0.11.0->qiskit[visualization]) (1.19.5)\n",
      "Requirement already satisfied: python-dateutil>=2.8.0 in c:\\users\\dell\\anaconda3\\lib\\site-packages (from qiskit-ibmq-provider==0.19.2->qiskit[visualization]) (2.8.2)\n",
      "Requirement already satisfied: websocket-client>=1.0.1 in c:\\users\\dell\\anaconda3\\lib\\site-packages (from qiskit-ibmq-provider==0.19.2->qiskit[visualization]) (1.4.1)\n",
      "Requirement already satisfied: websockets>=10.0 in c:\\users\\dell\\anaconda3\\lib\\site-packages (from qiskit-ibmq-provider==0.19.2->qiskit[visualization]) (10.3)\n",
      "Requirement already satisfied: requests>=2.19 in c:\\users\\dell\\anaconda3\\lib\\site-packages (from qiskit-ibmq-provider==0.19.2->qiskit[visualization]) (2.26.0)\n",
      "Requirement already satisfied: urllib3>=1.21.1 in c:\\users\\dell\\anaconda3\\lib\\site-packages (from qiskit-ibmq-provider==0.19.2->qiskit[visualization]) (1.26.7)\n",
      "Requirement already satisfied: requests-ntlm>=1.1.0 in c:\\users\\dell\\anaconda3\\lib\\site-packages (from qiskit-ibmq-provider==0.19.2->qiskit[visualization]) (1.1.0)\n",
      "Requirement already satisfied: psutil>=5 in c:\\users\\dell\\anaconda3\\lib\\site-packages (from qiskit-terra==0.21.2->qiskit[visualization]) (5.8.0)\n",
      "Requirement already satisfied: tweedledum<2.0,>=1.1 in c:\\users\\dell\\anaconda3\\lib\\site-packages (from qiskit-terra==0.21.2->qiskit[visualization]) (1.1.1)\n",
      "Requirement already satisfied: retworkx>=0.11.0 in c:\\users\\dell\\anaconda3\\lib\\site-packages (from qiskit-terra==0.21.2->qiskit[visualization]) (0.11.0)\n",
      "Requirement already satisfied: dill>=0.3 in c:\\users\\dell\\anaconda3\\lib\\site-packages (from qiskit-terra==0.21.2->qiskit[visualization]) (0.3.5.1)\n",
      "Requirement already satisfied: stevedore>=3.0.0 in c:\\users\\dell\\anaconda3\\lib\\site-packages (from qiskit-terra==0.21.2->qiskit[visualization]) (4.0.0)\n",
      "Requirement already satisfied: ply>=3.10 in c:\\users\\dell\\anaconda3\\lib\\site-packages (from qiskit-terra==0.21.2->qiskit[visualization]) (3.11)\n",
      "Requirement already satisfied: sympy>=1.3 in c:\\users\\dell\\anaconda3\\lib\\site-packages (from qiskit-terra==0.21.2->qiskit[visualization]) (1.9)\n",
      "Requirement already satisfied: ipython>=4.0.0 in c:\\users\\dell\\anaconda3\\lib\\site-packages (from ipywidgets>=7.3.0->qiskit[visualization]) (7.29.0)\n",
      "Requirement already satisfied: jupyterlab-widgets>=1.0.0 in c:\\users\\dell\\anaconda3\\lib\\site-packages (from ipywidgets>=7.3.0->qiskit[visualization]) (1.0.0)\n",
      "Requirement already satisfied: widgetsnbextension~=3.5.0 in c:\\users\\dell\\anaconda3\\lib\\site-packages (from ipywidgets>=7.3.0->qiskit[visualization]) (3.5.1)\n",
      "Requirement already satisfied: nbformat>=4.2.0 in c:\\users\\dell\\anaconda3\\lib\\site-packages (from ipywidgets>=7.3.0->qiskit[visualization]) (5.1.3)\n",
      "Requirement already satisfied: traitlets>=4.3.1 in c:\\users\\dell\\anaconda3\\lib\\site-packages (from ipywidgets>=7.3.0->qiskit[visualization]) (5.1.0)\n",
      "Requirement already satisfied: ipykernel>=4.5.1 in c:\\users\\dell\\anaconda3\\lib\\site-packages (from ipywidgets>=7.3.0->qiskit[visualization]) (6.4.1)\n",
      "Requirement already satisfied: ipython-genutils~=0.2.0 in c:\\users\\dell\\anaconda3\\lib\\site-packages (from ipywidgets>=7.3.0->qiskit[visualization]) (0.2.0)\n",
      "Requirement already satisfied: debugpy<2.0,>=1.0.0 in c:\\users\\dell\\anaconda3\\lib\\site-packages (from ipykernel>=4.5.1->ipywidgets>=7.3.0->qiskit[visualization]) (1.4.1)\n",
      "Requirement already satisfied: matplotlib-inline<0.2.0,>=0.1.0 in c:\\users\\dell\\anaconda3\\lib\\site-packages (from ipykernel>=4.5.1->ipywidgets>=7.3.0->qiskit[visualization]) (0.1.2)\n",
      "Requirement already satisfied: jupyter-client<8.0 in c:\\users\\dell\\anaconda3\\lib\\site-packages (from ipykernel>=4.5.1->ipywidgets>=7.3.0->qiskit[visualization]) (6.1.12)\n",
      "Requirement already satisfied: tornado<7.0,>=4.2 in c:\\users\\dell\\anaconda3\\lib\\site-packages (from ipykernel>=4.5.1->ipywidgets>=7.3.0->qiskit[visualization]) (6.1)\n",
      "Requirement already satisfied: decorator in c:\\users\\dell\\anaconda3\\lib\\site-packages (from ipython>=4.0.0->ipywidgets>=7.3.0->qiskit[visualization]) (5.1.0)\n",
      "Requirement already satisfied: backcall in c:\\users\\dell\\anaconda3\\lib\\site-packages (from ipython>=4.0.0->ipywidgets>=7.3.0->qiskit[visualization]) (0.2.0)\n",
      "Requirement already satisfied: colorama in c:\\users\\dell\\anaconda3\\lib\\site-packages (from ipython>=4.0.0->ipywidgets>=7.3.0->qiskit[visualization]) (0.4.4)\n",
      "Requirement already satisfied: prompt-toolkit!=3.0.0,!=3.0.1,<3.1.0,>=2.0.0 in c:\\users\\dell\\anaconda3\\lib\\site-packages (from ipython>=4.0.0->ipywidgets>=7.3.0->qiskit[visualization]) (3.0.20)\n",
      "Requirement already satisfied: jedi>=0.16 in c:\\users\\dell\\anaconda3\\lib\\site-packages (from ipython>=4.0.0->ipywidgets>=7.3.0->qiskit[visualization]) (0.18.0)\n",
      "Requirement already satisfied: setuptools>=18.5 in c:\\users\\dell\\anaconda3\\lib\\site-packages (from ipython>=4.0.0->ipywidgets>=7.3.0->qiskit[visualization]) (58.0.4)\n",
      "Requirement already satisfied: pickleshare in c:\\users\\dell\\anaconda3\\lib\\site-packages (from ipython>=4.0.0->ipywidgets>=7.3.0->qiskit[visualization]) (0.7.5)\n",
      "Requirement already satisfied: parso<0.9.0,>=0.8.0 in c:\\users\\dell\\anaconda3\\lib\\site-packages (from jedi>=0.16->ipython>=4.0.0->ipywidgets>=7.3.0->qiskit[visualization]) (0.8.2)\n",
      "Requirement already satisfied: pyzmq>=13 in c:\\users\\dell\\anaconda3\\lib\\site-packages (from jupyter-client<8.0->ipykernel>=4.5.1->ipywidgets>=7.3.0->qiskit[visualization]) (22.2.1)\n",
      "Requirement already satisfied: jupyter-core>=4.6.0 in c:\\users\\dell\\anaconda3\\lib\\site-packages (from jupyter-client<8.0->ipykernel>=4.5.1->ipywidgets>=7.3.0->qiskit[visualization]) (4.8.1)\n",
      "Requirement already satisfied: pywin32>=1.0 in c:\\users\\dell\\anaconda3\\lib\\site-packages (from jupyter-core>=4.6.0->jupyter-client<8.0->ipykernel>=4.5.1->ipywidgets>=7.3.0->qiskit[visualization]) (228)\n",
      "Requirement already satisfied: cycler>=0.10 in c:\\users\\dell\\anaconda3\\lib\\site-packages (from matplotlib>=2.1->qiskit[visualization]) (0.10.0)\n",
      "Requirement already satisfied: kiwisolver>=1.0.1 in c:\\users\\dell\\anaconda3\\lib\\site-packages (from matplotlib>=2.1->qiskit[visualization]) (1.3.1)\n",
      "Requirement already satisfied: pyparsing>=2.2.1 in c:\\users\\dell\\anaconda3\\lib\\site-packages (from matplotlib>=2.1->qiskit[visualization]) (3.0.4)\n",
      "Requirement already satisfied: six in c:\\users\\dell\\anaconda3\\lib\\site-packages (from cycler>=0.10->matplotlib>=2.1->qiskit[visualization]) (1.15.0)\n",
      "Requirement already satisfied: jsonschema!=2.5.0,>=2.4 in c:\\users\\dell\\anaconda3\\lib\\site-packages (from nbformat>=4.2.0->ipywidgets>=7.3.0->qiskit[visualization]) (3.2.0)\n",
      "Requirement already satisfied: attrs>=17.4.0 in c:\\users\\dell\\anaconda3\\lib\\site-packages (from jsonschema!=2.5.0,>=2.4->nbformat>=4.2.0->ipywidgets>=7.3.0->qiskit[visualization]) (21.2.0)\n",
      "Requirement already satisfied: pyrsistent>=0.14.0 in c:\\users\\dell\\anaconda3\\lib\\site-packages (from jsonschema!=2.5.0,>=2.4->nbformat>=4.2.0->ipywidgets>=7.3.0->qiskit[visualization]) (0.18.0)\n",
      "Requirement already satisfied: wcwidth in c:\\users\\dell\\anaconda3\\lib\\site-packages (from prompt-toolkit!=3.0.0,!=3.0.1,<3.1.0,>=2.0.0->ipython>=4.0.0->ipywidgets>=7.3.0->qiskit[visualization]) (0.2.5)\n",
      "Requirement already satisfied: idna<4,>=2.5 in c:\\users\\dell\\anaconda3\\lib\\site-packages (from requests>=2.19->qiskit-ibmq-provider==0.19.2->qiskit[visualization]) (3.2)\n",
      "Requirement already satisfied: charset-normalizer~=2.0.0 in c:\\users\\dell\\anaconda3\\lib\\site-packages (from requests>=2.19->qiskit-ibmq-provider==0.19.2->qiskit[visualization]) (2.0.4)\n",
      "Requirement already satisfied: certifi>=2017.4.17 in c:\\users\\dell\\anaconda3\\lib\\site-packages (from requests>=2.19->qiskit-ibmq-provider==0.19.2->qiskit[visualization]) (2021.10.8)\n",
      "Requirement already satisfied: ntlm-auth>=1.0.2 in c:\\users\\dell\\anaconda3\\lib\\site-packages (from requests-ntlm>=1.1.0->qiskit-ibmq-provider==0.19.2->qiskit[visualization]) (1.5.0)\n",
      "Requirement already satisfied: cryptography>=1.3 in c:\\users\\dell\\anaconda3\\lib\\site-packages (from requests-ntlm>=1.1.0->qiskit-ibmq-provider==0.19.2->qiskit[visualization]) (3.4.8)\n",
      "Requirement already satisfied: cffi>=1.12 in c:\\users\\dell\\anaconda3\\lib\\site-packages (from cryptography>=1.3->requests-ntlm>=1.1.0->qiskit-ibmq-provider==0.19.2->qiskit[visualization]) (1.14.6)\n",
      "Requirement already satisfied: pycparser in c:\\users\\dell\\anaconda3\\lib\\site-packages (from cffi>=1.12->cryptography>=1.3->requests-ntlm>=1.1.0->qiskit-ibmq-provider==0.19.2->qiskit[visualization]) (2.20)\n",
      "Requirement already satisfied: pandas>=0.25 in c:\\users\\dell\\anaconda3\\lib\\site-packages (from seaborn>=0.9.0->qiskit[visualization]) (1.3.4)\n",
      "Requirement already satisfied: pytz>=2017.3 in c:\\users\\dell\\anaconda3\\lib\\site-packages (from pandas>=0.25->seaborn>=0.9.0->qiskit[visualization]) (2021.3)\n",
      "Requirement already satisfied: pbr!=2.1.0,>=2.0.0 in c:\\users\\dell\\anaconda3\\lib\\site-packages (from stevedore>=3.0.0->qiskit-terra==0.21.2->qiskit[visualization]) (5.10.0)\n",
      "Requirement already satisfied: mpmath>=0.19 in c:\\users\\dell\\anaconda3\\lib\\site-packages (from sympy>=1.3->qiskit-terra==0.21.2->qiskit[visualization]) (1.2.1)\n",
      "Requirement already satisfied: notebook>=4.4.1 in c:\\users\\dell\\anaconda3\\lib\\site-packages (from widgetsnbextension~=3.5.0->ipywidgets>=7.3.0->qiskit[visualization]) (6.4.5)\n",
      "Requirement already satisfied: Send2Trash>=1.5.0 in c:\\users\\dell\\anaconda3\\lib\\site-packages (from notebook>=4.4.1->widgetsnbextension~=3.5.0->ipywidgets>=7.3.0->qiskit[visualization]) (1.8.0)\n",
      "Requirement already satisfied: nbconvert in c:\\users\\dell\\anaconda3\\lib\\site-packages (from notebook>=4.4.1->widgetsnbextension~=3.5.0->ipywidgets>=7.3.0->qiskit[visualization]) (6.1.0)\n",
      "Requirement already satisfied: jinja2 in c:\\users\\dell\\anaconda3\\lib\\site-packages (from notebook>=4.4.1->widgetsnbextension~=3.5.0->ipywidgets>=7.3.0->qiskit[visualization]) (2.11.3)\n",
      "Requirement already satisfied: prometheus-client in c:\\users\\dell\\anaconda3\\lib\\site-packages (from notebook>=4.4.1->widgetsnbextension~=3.5.0->ipywidgets>=7.3.0->qiskit[visualization]) (0.11.0)\n",
      "Requirement already satisfied: terminado>=0.8.3 in c:\\users\\dell\\anaconda3\\lib\\site-packages (from notebook>=4.4.1->widgetsnbextension~=3.5.0->ipywidgets>=7.3.0->qiskit[visualization]) (0.9.4)\n",
      "Requirement already satisfied: argon2-cffi in c:\\users\\dell\\anaconda3\\lib\\site-packages (from notebook>=4.4.1->widgetsnbextension~=3.5.0->ipywidgets>=7.3.0->qiskit[visualization]) (20.1.0)\n",
      "Requirement already satisfied: pywinpty>=0.5 in c:\\users\\dell\\anaconda3\\lib\\site-packages (from terminado>=0.8.3->notebook>=4.4.1->widgetsnbextension~=3.5.0->ipywidgets>=7.3.0->qiskit[visualization]) (0.5.7)\n",
      "Requirement already satisfied: MarkupSafe>=0.23 in c:\\users\\dell\\anaconda3\\lib\\site-packages (from jinja2->notebook>=4.4.1->widgetsnbextension~=3.5.0->ipywidgets>=7.3.0->qiskit[visualization]) (1.1.1)\n",
      "Requirement already satisfied: bleach in c:\\users\\dell\\anaconda3\\lib\\site-packages (from nbconvert->notebook>=4.4.1->widgetsnbextension~=3.5.0->ipywidgets>=7.3.0->qiskit[visualization]) (4.0.0)\n",
      "Requirement already satisfied: mistune<2,>=0.8.1 in c:\\users\\dell\\anaconda3\\lib\\site-packages (from nbconvert->notebook>=4.4.1->widgetsnbextension~=3.5.0->ipywidgets>=7.3.0->qiskit[visualization]) (0.8.4)\n",
      "Requirement already satisfied: jupyterlab-pygments in c:\\users\\dell\\anaconda3\\lib\\site-packages (from nbconvert->notebook>=4.4.1->widgetsnbextension~=3.5.0->ipywidgets>=7.3.0->qiskit[visualization]) (0.1.2)\n",
      "Requirement already satisfied: pandocfilters>=1.4.1 in c:\\users\\dell\\anaconda3\\lib\\site-packages (from nbconvert->notebook>=4.4.1->widgetsnbextension~=3.5.0->ipywidgets>=7.3.0->qiskit[visualization]) (1.4.3)\n",
      "Requirement already satisfied: nbclient<0.6.0,>=0.5.0 in c:\\users\\dell\\anaconda3\\lib\\site-packages (from nbconvert->notebook>=4.4.1->widgetsnbextension~=3.5.0->ipywidgets>=7.3.0->qiskit[visualization]) (0.5.3)\n",
      "Requirement already satisfied: defusedxml in c:\\users\\dell\\anaconda3\\lib\\site-packages (from nbconvert->notebook>=4.4.1->widgetsnbextension~=3.5.0->ipywidgets>=7.3.0->qiskit[visualization]) (0.7.1)\n",
      "Requirement already satisfied: entrypoints>=0.2.2 in c:\\users\\dell\\anaconda3\\lib\\site-packages (from nbconvert->notebook>=4.4.1->widgetsnbextension~=3.5.0->ipywidgets>=7.3.0->qiskit[visualization]) (0.3)\n",
      "Requirement already satisfied: testpath in c:\\users\\dell\\anaconda3\\lib\\site-packages (from nbconvert->notebook>=4.4.1->widgetsnbextension~=3.5.0->ipywidgets>=7.3.0->qiskit[visualization]) (0.5.0)\n",
      "Requirement already satisfied: async-generator in c:\\users\\dell\\anaconda3\\lib\\site-packages (from nbclient<0.6.0,>=0.5.0->nbconvert->notebook>=4.4.1->widgetsnbextension~=3.5.0->ipywidgets>=7.3.0->qiskit[visualization]) (1.10)\n",
      "Requirement already satisfied: nest-asyncio in c:\\users\\dell\\anaconda3\\lib\\site-packages (from nbclient<0.6.0,>=0.5.0->nbconvert->notebook>=4.4.1->widgetsnbextension~=3.5.0->ipywidgets>=7.3.0->qiskit[visualization]) (1.5.1)\n",
      "Requirement already satisfied: webencodings in c:\\users\\dell\\anaconda3\\lib\\site-packages (from bleach->nbconvert->notebook>=4.4.1->widgetsnbextension~=3.5.0->ipywidgets>=7.3.0->qiskit[visualization]) (0.5.1)\n",
      "Requirement already satisfied: packaging in c:\\users\\dell\\anaconda3\\lib\\site-packages (from bleach->nbconvert->notebook>=4.4.1->widgetsnbextension~=3.5.0->ipywidgets>=7.3.0->qiskit[visualization]) (21.0)\n",
      "Note: you may need to restart the kernel to use updated packages.\n"
     ]
    }
   ],
   "source": [
    "pip install qiskit[visualization]"
   ]
  },
  {
   "cell_type": "code",
   "execution_count": 2,
   "id": "85db8f80",
   "metadata": {},
   "outputs": [],
   "source": [
    "from qiskit import *\n",
    "import random"
   ]
  },
  {
   "cell_type": "code",
   "execution_count": 3,
   "id": "4212f490",
   "metadata": {},
   "outputs": [],
   "source": [
    "KEY_LENGTH = 500\n",
    "random.seed(0)"
   ]
  },
  {
   "cell_type": "code",
   "execution_count": 5,
   "id": "3c9e603b",
   "metadata": {},
   "outputs": [
    {
     "name": "stdout",
     "output_type": "stream",
     "text": [
      "The bits Alice is going to send are: 0110000101...\n"
     ]
    }
   ],
   "source": [
    "alice_bits = \"\"\n",
    "for i in range(KEY_LENGTH):\n",
    "    randBit = random.randint(0, 1) \n",
    "    alice_bits += str(randBit) \n",
    "    \n",
    "print(\"The bits Alice is going to send are: \" + alice_bits[:10] + \"...\")"
   ]
  },
  {
   "cell_type": "code",
   "execution_count": 6,
   "id": "5632e62a",
   "metadata": {},
   "outputs": [],
   "source": [
    "\n",
    "def generate_random_bases(num_of_bases):\n",
    "    \"\"\"This function selects a random basis for each bit\"\"\"\n",
    "    bases_string = \"\"\n",
    "    for i in range(num_of_bases):\n",
    "        randBasis = random.randint(0, 1)\n",
    "        if randBasis == 0:\n",
    "            bases_string += \"Z\" \n",
    "        else:\n",
    "            bases_string += \"X\"\n",
    "            \n",
    "    return bases_string"
   ]
  },
  {
   "cell_type": "code",
   "execution_count": 7,
   "id": "38ec1fdb",
   "metadata": {},
   "outputs": [
    {
     "name": "stdout",
     "output_type": "stream",
     "text": [
      "The bases Alice is going to encode them in are: XZZXZZZXXX...\n"
     ]
    }
   ],
   "source": [
    "alice_bases = generate_random_bases(KEY_LENGTH) # Alice randomly chooses a basis for each bit.\n",
    "    \n",
    "print(\"The bases Alice is going to encode them in are: \" + alice_bases[:10] + \"...\")"
   ]
  },
  {
   "cell_type": "code",
   "execution_count": 8,
   "id": "ba4b303b",
   "metadata": {},
   "outputs": [],
   "source": [
    "def encode(bits, bases):\n",
    "    \"\"\"This function encodes each bit into the given basis.\"\"\"\n",
    "    \n",
    "    encoded_qubits = []\n",
    "    \n",
    "    for bit, basis in zip(bits, bases): #The zip() function takes iterables, aggregates them in a tuple, and returns it.\n",
    "        qc = QuantumCircuit(1, 1) # Create a quantum circuit for each qubit, 1 quantum bit & 1 classical bit.\n",
    "        \n",
    "        # Possible Cases\n",
    "        if bit==\"0\" and basis == \"Z\":\n",
    "            encoded_qubits.append(qc)\n",
    "            \n",
    "        elif bit==\"1\" and basis == \"Z\":\n",
    "            qc.x(0) # Apply X Gate\n",
    "            encoded_qubits.append(qc)\n",
    "\n",
    "        elif bit==\"0\" and basis == \"X\":\n",
    "            qc.h(0) # Apply H Gate\n",
    "            encoded_qubits.append(qc)\n",
    "            \n",
    "        elif bit==\"1\" and basis == \"X\":\n",
    "            qc.x(0) # Apply X Gate\n",
    "            qc.h(0) # Apply H Gate\n",
    "            encoded_qubits.append(qc)\n",
    "    return (encoded_qubits)"
   ]
  },
  {
   "cell_type": "code",
   "execution_count": 10,
   "id": "47738129",
   "metadata": {},
   "outputs": [],
   "source": [
    "encoded_qubits = encode(alice_bits, alice_bases)"
   ]
  },
  {
   "cell_type": "markdown",
   "id": "9deed482",
   "metadata": {},
   "source": [
    "Sending qubits"
   ]
  },
  {
   "cell_type": "code",
   "execution_count": 11,
   "id": "13f21506",
   "metadata": {},
   "outputs": [],
   "source": [
    "QUANTUM_CHANNEL = encoded_qubits"
   ]
  },
  {
   "cell_type": "code",
   "execution_count": 12,
   "id": "78bc24bd",
   "metadata": {},
   "outputs": [
    {
     "name": "stdout",
     "output_type": "stream",
     "text": [
      "The bases Bob is going to decode them in are: ZZXZXXXXZZ...\n"
     ]
    }
   ],
   "source": [
    "bob_bases = generate_random_bases(KEY_LENGTH)\n",
    "print(\"The bases Bob is going to decode them in are: \" + bob_bases[:10] + \"...\")"
   ]
  },
  {
   "cell_type": "code",
   "execution_count": 13,
   "id": "825c0cb7",
   "metadata": {},
   "outputs": [],
   "source": [
    "def measure(qubits, bases):\n",
    "        \"\"\"This function measures each qubit in the corresponding basis chosen for it.\"\"\"\n",
    "\n",
    "        bits = \"\" # The results of measurements\n",
    "\n",
    "        for qubit, basis in zip(qubits, bases):\n",
    "\n",
    "            # Add measurement depending on basis\n",
    "            if basis == \"Z\":\n",
    "                qubit.measure(0, 0)\n",
    "            elif basis == \"X\":\n",
    "                qubit.h(0)\n",
    "                qubit.measure(0, 0)\n",
    "\n",
    "            # Execute on Simulator\n",
    "            simulator = Aer.get_backend('qasm_simulator')\n",
    "            result = execute(qubit, backend=simulator, shots=1).result()\n",
    "            counts = result.get_counts()\n",
    "            measured_bit = max(counts, key=counts.get) # Max doesn't matter for simulator since there is only one shot.\n",
    "\n",
    "            bits += measured_bit\n",
    "            \n",
    "        return bits"
   ]
  },
  {
   "cell_type": "code",
   "execution_count": 14,
   "id": "bfa587e0",
   "metadata": {},
   "outputs": [
    {
     "name": "stdout",
     "output_type": "stream",
     "text": [
      "The first few bits Bob received are: 1101100111...\n"
     ]
    }
   ],
   "source": [
    "qubits_received = QUANTUM_CHANNEL # Receive qubits from quantum channel\n",
    "bob_bits = measure(qubits_received, bob_bases)\n",
    "\n",
    "print(\"The first few bits Bob received are: \" + bob_bits[:10] + \"...\")"
   ]
  },
  {
   "cell_type": "markdown",
   "id": "a01df615",
   "metadata": {},
   "source": [
    "Compare"
   ]
  },
  {
   "cell_type": "code",
   "execution_count": 15,
   "id": "8b331753",
   "metadata": {},
   "outputs": [],
   "source": [
    "CLASSICAL_CHANNEL = alice_bases"
   ]
  },
  {
   "cell_type": "code",
   "execution_count": 16,
   "id": "f3c72722",
   "metadata": {},
   "outputs": [
    {
     "name": "stdout",
     "output_type": "stream",
     "text": [
      "The indices of the first 10 bases they share in common are: [1, 7, 10, 11, 12, 14, 19, 23, 26, 27]\n"
     ]
    }
   ],
   "source": [
    "common_bases = [i for i in range(KEY_LENGTH) if CLASSICAL_CHANNEL[i]==bob_bases[i]]\n",
    "\n",
    "print(\"The indices of the first 10 bases they share in common are: \" + str(common_bases[:10]))"
   ]
  },
  {
   "cell_type": "code",
   "execution_count": 17,
   "id": "8e7afb3d",
   "metadata": {},
   "outputs": [],
   "source": [
    "bob_bits = [bob_bits[index] for index in common_bases]"
   ]
  },
  {
   "cell_type": "code",
   "execution_count": 18,
   "id": "252202fe",
   "metadata": {},
   "outputs": [],
   "source": [
    "CLASSICAL_CHANNEL = common_bases"
   ]
  },
  {
   "cell_type": "code",
   "execution_count": 19,
   "id": "8987980f",
   "metadata": {},
   "outputs": [],
   "source": [
    "alice_bits = [alice_bits[index] for index in common_bases]"
   ]
  },
  {
   "cell_type": "code",
   "execution_count": 20,
   "id": "1ba1aea4",
   "metadata": {},
   "outputs": [
    {
     "name": "stdout",
     "output_type": "stream",
     "text": [
      "Yes, Alice and Bob seem to have the same bits!\n"
     ]
    }
   ],
   "source": [
    "CLASSICAL_CHANNEL = alice_bits[:100] # Alice tells Bob the first 100 bits she has left.\n",
    "\n",
    "# Bob checks if they match the first 100 bits that he has\n",
    "if CLASSICAL_CHANNEL == bob_bits[:100]:\n",
    "    print(\"Yes, Alice and Bob seem to have the same bits!\")\n",
    "else:\n",
    "    print(\"At least one of the bits is different.\")"
   ]
  },
  {
   "cell_type": "code",
   "execution_count": null,
   "id": "106cadb3",
   "metadata": {},
   "outputs": [],
   "source": []
  }
 ],
 "metadata": {
  "kernelspec": {
   "display_name": "Python 3 (ipykernel)",
   "language": "python",
   "name": "python3"
  },
  "language_info": {
   "codemirror_mode": {
    "name": "ipython",
    "version": 3
   },
   "file_extension": ".py",
   "mimetype": "text/x-python",
   "name": "python",
   "nbconvert_exporter": "python",
   "pygments_lexer": "ipython3",
   "version": "3.9.7"
  }
 },
 "nbformat": 4,
 "nbformat_minor": 5
}
