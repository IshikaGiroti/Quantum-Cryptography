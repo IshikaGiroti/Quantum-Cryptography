{
 "cells": [
  {
   "cell_type": "code",
   "execution_count": 1,
   "id": "a9d50320",
   "metadata": {},
   "outputs": [],
   "source": [
    "from qiskit import *\n",
    "import random"
   ]
  },
  {
   "cell_type": "code",
   "execution_count": 4,
   "id": "295be17c",
   "metadata": {},
   "outputs": [],
   "source": [
    "KEY_LENGTH = 500\n",
    "random.seed(0)"
   ]
  },
  {
   "cell_type": "code",
   "execution_count": 5,
   "id": "b486e908",
   "metadata": {},
   "outputs": [],
   "source": [
    "def generate_random_bases(num_of_bases):\n",
    "    \"\"\"This function selects a random basis for each bit\"\"\"\n",
    "    bases_string = \"\"\n",
    "    for i in range(num_of_bases):\n",
    "        randBasis = random.randint(0, 1)\n",
    "        if randBasis == 0:\n",
    "            bases_string += \"Z\" \n",
    "        else:\n",
    "            bases_string += \"X\"\n",
    "            \n",
    "    return bases_string"
   ]
  },
  {
   "cell_type": "code",
   "execution_count": 7,
   "id": "eb5568b8",
   "metadata": {},
   "outputs": [],
   "source": [
    "def encode(bits, bases):\n",
    "    \"\"\"This function encodes each bit into the given basis.\"\"\"\n",
    "    \n",
    "    encoded_qubits = []\n",
    "    \n",
    "    for bit, basis in zip(bits, bases): \n",
    "        qc = QuantumCircuit(1, 1) \n",
    "        \n",
    "        # Possible Cases\n",
    "        if bit==\"0\" and basis == \"Z\":\n",
    "            encoded_qubits.append(qc)\n",
    "            \n",
    "        elif bit==\"1\" and basis == \"Z\":\n",
    "            qc.x(0) # Apply X Gate\n",
    "            encoded_qubits.append(qc)\n",
    "\n",
    "        elif bit==\"0\" and basis == \"X\":\n",
    "            qc.h(0) # Apply H Gate\n",
    "            encoded_qubits.append(qc)\n",
    "            \n",
    "        elif bit==\"1\" and basis == \"X\":\n",
    "            qc.x(0) # Apply X Gate\n",
    "            qc.h(0) # Apply H Gate\n",
    "            encoded_qubits.append(qc)\n",
    "    return (encoded_qubits)"
   ]
  },
  {
   "cell_type": "code",
   "execution_count": 8,
   "id": "8053e95f",
   "metadata": {},
   "outputs": [],
   "source": [
    "# Generating a random string of bits\n",
    "alice_bits = \"\"\n",
    "for i in range(KEY_LENGTH):\n",
    "    randBit = random.randint(0, 1) \n",
    "    alice_bits += str(randBit) \n",
    "    \n",
    "# Alice randomly chooses a basis for each bit.\n",
    "alice_bases = generate_random_bases(KEY_LENGTH)\n",
    "\n",
    "# Encode Alice's bits\n",
    "encoded_qubits = encode(alice_bits, alice_bases)\n",
    "\n",
    "QUANTUM_CHANNEL = encoded_qubits"
   ]
  },
  {
   "cell_type": "code",
   "execution_count": 9,
   "id": "a25805f6",
   "metadata": {},
   "outputs": [],
   "source": [
    "def measure(qubits, bases):\n",
    "        \"\"\"This function measures each qubit in the corresponding basis chosen for it.\"\"\"\n",
    "\n",
    "        bits = \"\" # The results of measurements\n",
    "\n",
    "        for qubit, basis in zip(qubits, bases):\n",
    "\n",
    "            # Add measurement depending on basis\n",
    "            if basis == \"Z\":\n",
    "                qubit.measure(0, 0)\n",
    "            elif basis == \"X\":\n",
    "                qubit.h(0)\n",
    "                qubit.measure(0, 0)\n",
    "\n",
    "            # Execute on Simulator\n",
    "            simulator = Aer.get_backend('qasm_simulator')\n",
    "            result = execute(qubit, backend=simulator, shots=1).result()\n",
    "            counts = result.get_counts()\n",
    "            measured_bit = max(counts, key=counts.get) # Max doesn't matter for simulator since there is only one shot.\n",
    "\n",
    "            bits += measured_bit\n",
    "            \n",
    "        return bits"
   ]
  },
  {
   "cell_type": "code",
   "execution_count": 10,
   "id": "cf8d1a16",
   "metadata": {},
   "outputs": [],
   "source": [
    "qubits_intercepted = QUANTUM_CHANNEL # Intercept qubits\n",
    "eve_bases = generate_random_bases(KEY_LENGTH) # Generate a random set of bases\n",
    "eve_bits = measure(qubits_intercepted, eve_bases) # Measure the qubits"
   ]
  },
  {
   "cell_type": "code",
   "execution_count": 11,
   "id": "30fdc402",
   "metadata": {},
   "outputs": [],
   "source": [
    "# Eve encodes her decoy qubits and sends them along the quantum channel\n",
    "QUANTUM_CHANNEL = encode(eve_bits, eve_bases)"
   ]
  },
  {
   "cell_type": "code",
   "execution_count": 12,
   "id": "202dc551",
   "metadata": {},
   "outputs": [],
   "source": [
    "#Bob performs his usual steps\n",
    "bob_bases = generate_random_bases(KEY_LENGTH) # Bob randomly chooses a basis for each bit.\n",
    "qubits_received = QUANTUM_CHANNEL # Receive qubits from quantum channel\n",
    "bob_bits = measure(qubits_received, bob_bases)"
   ]
  },
  {
   "cell_type": "code",
   "execution_count": 13,
   "id": "646d3d31",
   "metadata": {},
   "outputs": [],
   "source": [
    "CLASSICAL_CHANNEL = alice_bases # Alice tells Bob which bases she used"
   ]
  },
  {
   "cell_type": "code",
   "execution_count": 14,
   "id": "fd30334d",
   "metadata": {},
   "outputs": [],
   "source": [
    "# Store the indices of the bases they share in common\n",
    "common_bases = [i for i in range(KEY_LENGTH) if CLASSICAL_CHANNEL[i]==bob_bases[i]]\n",
    "bob_bits = [bob_bits[index] for index in common_bases]"
   ]
  },
  {
   "cell_type": "code",
   "execution_count": 15,
   "id": "b9985107",
   "metadata": {},
   "outputs": [],
   "source": [
    "CLASSICAL_CHANNEL = common_bases # Bob tells Alice which bases they shared in common\n",
    "alice_bits = [alice_bits[index] for index in common_bases] # Alice keeps only the bits they shared in common"
   ]
  },
  {
   "cell_type": "code",
   "execution_count": 17,
   "id": "6b83d5f0",
   "metadata": {},
   "outputs": [
    {
     "name": "stdout",
     "output_type": "stream",
     "text": [
      "At least one of the bits is different. This indicates the presence of an eavesdropper\n"
     ]
    }
   ],
   "source": [
    "CLASSICAL_CHANNEL = alice_bits[:100] # Alice tells Bob the first 100 bits she has left.\n",
    "\n",
    "# Bob checks if they match the first 100 bits that he has\n",
    "if CLASSICAL_CHANNEL == bob_bits[:100]:\n",
    "    print(\"Yes, Alice and Bob seem to have the same bits!\")\n",
    "else:\n",
    "    print(\"At least one of the bits is different. This indicates the presence of an eavesdropper\")"
   ]
  },
  {
   "cell_type": "code",
   "execution_count": null,
   "id": "c5bc20c7",
   "metadata": {},
   "outputs": [],
   "source": []
  }
 ],
 "metadata": {
  "kernelspec": {
   "display_name": "Python 3 (ipykernel)",
   "language": "python",
   "name": "python3"
  },
  "language_info": {
   "codemirror_mode": {
    "name": "ipython",
    "version": 3
   },
   "file_extension": ".py",
   "mimetype": "text/x-python",
   "name": "python",
   "nbconvert_exporter": "python",
   "pygments_lexer": "ipython3",
   "version": "3.9.7"
  }
 },
 "nbformat": 4,
 "nbformat_minor": 5
}
